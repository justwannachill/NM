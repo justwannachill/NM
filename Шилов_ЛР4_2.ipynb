{
  "nbformat": 4,
  "nbformat_minor": 0,
  "metadata": {
    "colab": {
      "provenance": [],
      "include_colab_link": true
    },
    "kernelspec": {
      "name": "python3",
      "display_name": "Python 3"
    },
    "language_info": {
      "name": "python"
    }
  },
  "cells": [
    {
      "cell_type": "markdown",
      "metadata": {
        "id": "view-in-github",
        "colab_type": "text"
      },
      "source": [
        "<a href=\"https://colab.research.google.com/github/justwannachill/NM/blob/main/%D0%A8%D0%B8%D0%BB%D0%BE%D0%B2_%D0%9B%D0%A04_2.ipynb\" target=\"_parent\"><img src=\"https://colab.research.google.com/assets/colab-badge.svg\" alt=\"Open In Colab\"/></a>"
      ]
    },
    {
      "cell_type": "markdown",
      "source": [
        "Варіант 14, був присутній на парі"
      ],
      "metadata": {
        "id": "8Z6lPKLj08yo"
      }
    },
    {
      "cell_type": "code",
      "execution_count": 1,
      "metadata": {
        "id": "DlhB3T_KwRie"
      },
      "outputs": [],
      "source": [
        "import numpy as np\n",
        "a = np.array([\n",
        "    [1, 2, 3],\n",
        "    [1, 3, 4],\n",
        "    [2, -1, -1],\n",
        "])\n",
        "b = np.array([[5], [6], [1]])"
      ]
    },
    {
      "cell_type": "code",
      "source": [
        "#Матричний метод (1 спосіб)\n",
        "det_a = np.linalg.det(a)\n",
        "if det_a == 0:\n",
        "    print(\"Визначник дорівнює нулю - рішень немає\")\n",
        "else:\n",
        "  a_inv = np.linalg.inv(a)\n",
        "  print(f\"Обернена матриця до матриці A: \\r\\n {a_inv }\")\n",
        "  print(f\"Вектор рішення: \\r\\n {a_inv.dot(b)}\")"
      ],
      "metadata": {
        "colab": {
          "base_uri": "https://localhost:8080/"
        },
        "id": "p6xCePN2waI2",
        "outputId": "13e7519f-7c86-4b6c-8d66-b5208419f581"
      },
      "execution_count": 2,
      "outputs": [
        {
          "output_type": "stream",
          "name": "stdout",
          "text": [
            "Обернена матриця до матриці A: \r\n",
            " [[-0.5  0.5  0.5]\n",
            " [-4.5  3.5  0.5]\n",
            " [ 3.5 -2.5 -0.5]]\n",
            "Вектор рішення: \r\n",
            " [[ 1.]\n",
            " [-1.]\n",
            " [ 2.]]\n"
          ]
        }
      ]
    },
    {
      "cell_type": "code",
      "source": [
        "# Напиши функцію для вирішення системи матричним методом (2 спосіб)\n",
        "def solve_inv_matrix(a, b, verbose=False):\n",
        "    det = np.linalg.det(a)\n",
        "    if verbose: print(f\"Визначник матриці A: {round(det)}\")\n",
        "    if det == 0:\n",
        "        print(\"Визначник дорівнює нулю - рішень немає\")\n",
        "        return None\n",
        "\n",
        "    a_inv= np.linalg.inv(a)\n",
        "    if verbose: print(f\"Обернена матриця до матриці A: \\r\\n {a_inv }\")\n",
        "    return a_inv.dot(b)\n",
        "\n",
        "print(f\"Вектор рішення: \\r\\n {solve_inv_matrix(a, b)}\")"
      ],
      "metadata": {
        "colab": {
          "base_uri": "https://localhost:8080/"
        },
        "id": "vVOGJcfowh1Z",
        "outputId": "6cd62e4b-3504-487c-a80a-bba9b7df33c5"
      },
      "execution_count": 3,
      "outputs": [
        {
          "output_type": "stream",
          "name": "stdout",
          "text": [
            "Вектор рішення: \r\n",
            " [[ 1.]\n",
            " [-1.]\n",
            " [ 2.]]\n"
          ]
        }
      ]
    },
    {
      "cell_type": "code",
      "source": [
        "#метод Крамера (1 спосіб)\n",
        "# Метод Крамера\n",
        "det_a = np.linalg.det(a)\n",
        "\n",
        "if det_a == 0:\n",
        "    print(\"Визначник дорівнює нулю — система не має єдиного розв’язку.\")\n",
        "else:\n",
        "    def replace_column(matrix, column_index, new_column):\n",
        "        new_matrix = np.copy(matrix)\n",
        "        new_matrix[:, column_index] = new_column\n",
        "        return new_matrix\n",
        "\n",
        "    # Обчислюємо Δx, Δy, Δz\n",
        "    delta_x = np.linalg.det(replace_column(a, 0, b.T))\n",
        "    delta_y = np.linalg.det(replace_column(a, 1, b.T))\n",
        "    delta_z = np.linalg.det(replace_column(a, 2, b.T))\n",
        "\n",
        "    # Обчислюємо x, y, z\n",
        "    print('x =', delta_x / det_a)\n",
        "    print('y =', delta_y / det_a)\n",
        "    print('z =', delta_z / det_a)\n",
        "\n"
      ],
      "metadata": {
        "colab": {
          "base_uri": "https://localhost:8080/"
        },
        "id": "tmzA_0CAwmds",
        "outputId": "0ebbe2a0-21d1-4d23-950d-077ee7563a3c"
      },
      "execution_count": 4,
      "outputs": [
        {
          "output_type": "stream",
          "name": "stdout",
          "text": [
            "x = 0.9999999999999989\n",
            "y = -1.0000000000000004\n",
            "z = 2.0000000000000004\n"
          ]
        }
      ]
    },
    {
      "cell_type": "code",
      "source": [
        "# Напиши функцію для вирішення системи методом Крамера\n",
        "def solve_cramer(a, b, verbose=False):\n",
        "    det = np.linalg.det(a)\n",
        "    if verbose: print(f\"Визначник матриці A: {round(det)}\")\n",
        "    if det == 0:\n",
        "        print(\"Визначник дорівнює нулю - рішень немає\")\n",
        "        return None\n",
        "\n",
        "    len_a = len(a)\n",
        "    x = np.zeros((len_a, 1))\n",
        "    for i in range(len_a):\n",
        "        temp = np.copy(a)\n",
        "        temp[:, [i]] = b\n",
        "        x[i, 0] = np.linalg.det(temp)/det\n",
        "\n",
        "    return x\n",
        "\n",
        "\n",
        "print(f\"Вектор рішення: \\r\\n {solve_cramer(a, b)}\")"
      ],
      "metadata": {
        "colab": {
          "base_uri": "https://localhost:8080/"
        },
        "id": "wrjoJ3pWwptY",
        "outputId": "f7f8a71d-8dae-4ed2-aa22-f8e59f72a96b"
      },
      "execution_count": 5,
      "outputs": [
        {
          "output_type": "stream",
          "name": "stdout",
          "text": [
            "Вектор рішення: \r\n",
            " [[ 1.]\n",
            " [-1.]\n",
            " [ 2.]]\n"
          ]
        }
      ]
    },
    {
      "cell_type": "markdown",
      "source": [
        "Перевірка"
      ],
      "metadata": {
        "id": "KLFQe9XLwtrE"
      }
    },
    {
      "cell_type": "code",
      "source": [
        "x = np.linalg.solve(a, b)\n",
        "\n",
        "print(x)"
      ],
      "metadata": {
        "colab": {
          "base_uri": "https://localhost:8080/"
        },
        "id": "H2jnfCBrwwRp",
        "outputId": "926ec641-b6c1-4545-8256-05198a9fb47e"
      },
      "execution_count": 7,
      "outputs": [
        {
          "output_type": "stream",
          "name": "stdout",
          "text": [
            "[[ 1.]\n",
            " [-1.]\n",
            " [ 2.]]\n"
          ]
        }
      ]
    },
    {
      "cell_type": "code",
      "source": [
        "# Напиши функцію для вирішення системи методом Гауса\n",
        "def solve_gausse(a, b, verbose=False):\n",
        "    det = np.linalg.det(a)\n",
        "    if verbose: print(f\"Визначник матриці A: {round(det)}\")\n",
        "    if det == 0:\n",
        "        print(\"Визначник дорівнює нулю - рішень немає\")\n",
        "        return None\n",
        "    # Reading number of unknowns\n",
        "    n = len(b)\n",
        "    m = np.concatenate([a, b], axis=1, dtype=float)\n",
        "\n",
        "    # Applying Gauss-Jordan Elimination\n",
        "    for i in range(n):\n",
        "\n",
        "        # Swap rows to avoid division by 0\n",
        "        if m[i, i] == 0:\n",
        "            for k in range(i+1, n):\n",
        "                if m[k, k] != 0:\n",
        "                    m[[i, k], :] = m[[k, i], :]\n",
        "                    break\n",
        "\n",
        "\n",
        "        if m[i, i] != 1:\n",
        "            m[i, :] *= 1/m[i, i]\n",
        "\n",
        "        for j in range(n):\n",
        "            if i != j:\n",
        "                ratio = m[j][i]/m[i][i]\n",
        "\n",
        "                m[j, :] = m[j, :] - ratio * m[i, :]\n",
        "\n",
        "    return m[:, [-1]]\n",
        "\n",
        "print(f\"Вектор рішення: \\r\\n {solve_gausse(a, b)}\")"
      ],
      "metadata": {
        "colab": {
          "base_uri": "https://localhost:8080/"
        },
        "id": "0jnvvtjmxJPE",
        "outputId": "33616f79-deb4-41f2-efe3-c7a52630251f"
      },
      "execution_count": 6,
      "outputs": [
        {
          "output_type": "stream",
          "name": "stdout",
          "text": [
            "Вектор рішення: \r\n",
            " [[ 1.]\n",
            " [-1.]\n",
            " [ 2.]]\n"
          ]
        }
      ]
    }
  ]
}