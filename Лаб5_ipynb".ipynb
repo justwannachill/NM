{
  "nbformat": 4,
  "nbformat_minor": 0,
  "metadata": {
    "colab": {
      "provenance": [],
      "include_colab_link": true
    },
    "kernelspec": {
      "name": "python3",
      "display_name": "Python 3"
    },
    "language_info": {
      "name": "python"
    }
  },
  "cells": [
    {
      "cell_type": "markdown",
      "metadata": {
        "id": "view-in-github",
        "colab_type": "text"
      },
      "source": [
        "<a href=\"https://colab.research.google.com/github/justwannachill/NM/blob/main/%D0%9B%D0%B0%D0%B15_ipynb%22.ipynb\" target=\"_parent\"><img src=\"https://colab.research.google.com/assets/colab-badge.svg\" alt=\"Open In Colab\"/></a>"
      ]
    },
    {
      "cell_type": "markdown",
      "source": [
        "#Лабораторна робота 5\n",
        "Розв'язання систем нелінійних рівнянь.\n",
        "\n",
        "Варіант 15 Шилов Данііл група 2-15\n"
      ],
      "metadata": {
        "id": "IoB997mFVIyw"
      }
    },
    {
      "cell_type": "code",
      "source": [
        "import numpy as np\n",
        "import matplotlib.pyplot as plt\n",
        "\n",
        "# Область значень для x та y\n",
        "x_min, x_max = -1, 1\n",
        "y_min, y_max = -4, 1\n",
        "step = 0.01\n",
        "\n",
        "# Створюємо масиви значень x та y\n",
        "x, y = np.meshgrid(np.arange(x_min, x_max, step), np.arange(y_min, y_max, step))\n",
        "\n",
        "# Рівняння системи\n",
        "eq1 = np.sin(y + 0.5) - x - 1\n",
        "eq2 = np.cos(x - 2) + y\n",
        "\n",
        "# Створюємо графік\n",
        "fig, ax = plt.subplots(figsize=(10, 5))\n",
        "\n",
        "# Додаємо графік першого рівняння\n",
        "ax.contour(x, y, eq1, levels=[0], colors='red')\n",
        "\n",
        "# Додаємо графік другого рівняння\n",
        "ax.contour(x, y, eq2, levels=[0], colors='blue')\n",
        "\n",
        "# Налаштування графіка\n",
        "ax.set_xlim([x_min, x_max])\n",
        "ax.set_ylim([y_min, y_max])\n",
        "ax.set_xlabel('x')\n",
        "ax.set_ylabel('y')\n",
        "ax.set_title('Графік системи рівнянь')\n",
        "\n",
        "# Додаємо стрілки на кінцях осей\n",
        "ax.arrow(x_min, 0, x_max - x_min, 0, head_width=0.1, head_length=0.05, fc='black', ec='black')\n",
        "ax.arrow(0, y_min, 0, y_max - y_min, head_width=0.1, head_length=0.2, fc='black', ec='black')\n",
        "\n",
        "# Додаємо сітку\n",
        "plt.grid(True)\n",
        "\n",
        "# Показуємо графік\n",
        "plt.show()\n"
      ],
      "metadata": {
        "colab": {
          "base_uri": "https://localhost:8080/",
          "height": 487
        },
        "id": "1oi4D4nJV79j",
        "outputId": "6aa06af5-70f6-400d-c0ef-87327ff3910d"
      },
      "execution_count": 2,
      "outputs": [
        {
          "output_type": "display_data",
          "data": {
            "text/plain": [
              "<Figure size 1000x500 with 1 Axes>"
            ],
            "image/png": "[encoded data removed]"
          },
          "metadata": {}
        }
      ]
    },
    {
      "cell_type": "code",
      "source": [
        "import numpy as np\n",
        "import matplotlib.pyplot as plt\n"
      ],
      "metadata": {
        "id": "L4PP7PNBWJkP"
      },
      "execution_count": null,
      "outputs": []
    },
    {
      "cell_type": "code",
      "execution_count": 1,
      "metadata": {
        "colab": {
          "base_uri": "https://localhost:8080/"
        },
        "id": "bOECzfLrVH3M",
        "outputId": "ba807abe-9b38-4ea0-a79a-bd10d1403efb"
      },
      "outputs": [
        {
          "output_type": "stream",
          "name": "stdout",
          "text": [
            "Simple iteration:\n",
            "x= 0.5377226180981429 \n",
            "y= -0.13863289816735458 \n",
            "The amount of iteration =  16\n",
            "Chek [-0.13868462  0.537853  ]\n"
          ]
        }
      ],
      "source": [
        "#Розв'язок системи рівнянь методом простої ітерації\n",
        "import numpy as np\n",
        "from scipy import optimize\n",
        "x0 = -0.2\n",
        "y0 = 0.5\n",
        "\n",
        "def f1(y):\n",
        "    return np.sin(y + 0.5) - 1 #задаємо функції\n",
        "def f2 (x):\n",
        "    return -np.cos(x - 2) #задаємо функції\n",
        "#Перевірка методу на збіжність\n",
        "\n",
        "def iter (x,y,e):\n",
        "    xn = x\n",
        "    yn = y\n",
        "    xn1 = f2(x)\n",
        "    yn1 = f1(y)\n",
        "    n = 1\n",
        "    while ((abs(xn1-xn)>=e) & (abs(yn1-yn) >=e)):\n",
        "        xn = xn1\n",
        "        yn = yn1\n",
        "        xn1 = f2(yn)\n",
        "        yn1 = f1(xn)\n",
        "        n += 1\n",
        "    print ('Simple iteration:')\n",
        "    print ('x=', xn, '\\ny=',yn,'\\nThe amount of iteration = ',n)\n",
        "\n",
        "iter(x0,y0,0.0001)\n",
        "\n",
        "def f3(x): #Задаємо функцію для перевірки\n",
        "    return np.sin(x[1] + 0.5) - x[0] - 1, np.cos(x[0] - 2) + x[1]\n",
        "\n",
        "s = optimize.root(f3, [0.,0.], method = 'hybr') #Перевірка розв*язку #Відповіді\n",
        "#мають співпасти\n",
        "print ('Chek',s.x)"
      ]
    },
    {
      "cell_type": "markdown",
      "source": [
        "Зверніть увагу!\n",
        "#Відповіді мають співпасти.\n",
        "\n"
      ],
      "metadata": {
        "id": "D3azkvZQWfFm"
      }
    }
  ]
}