{
  "nbformat": 4,
  "nbformat_minor": 0,
  "metadata": {
    "colab": {
      "provenance": [],
      "include_colab_link": true
    },
    "kernelspec": {
      "name": "python3",
      "display_name": "Python 3"
    },
    "language_info": {
      "name": "python"
    }
  },
  "cells": [
    {
      "cell_type": "markdown",
      "metadata": {
        "id": "view-in-github",
        "colab_type": "text"
      },
      "source": [
        "<a href=\"https://colab.research.google.com/github/justwannachill/NM/blob/main/%D0%A2%D0%B5%D0%BC%D0%B0_1.ipynb\" target=\"_parent\"><img src=\"https://colab.research.google.com/assets/colab-badge.svg\" alt=\"Open In Colab\"/></a>"
      ]
    },
    {
      "cell_type": "code",
      "execution_count": null,
      "metadata": {
        "colab": {
          "base_uri": "https://localhost:8080/"
        },
        "id": "o6C05dIo6S8t",
        "outputId": "3837ac60-4f73-41ce-8d30-24625a850aba"
      },
      "outputs": [
        {
          "output_type": "execute_result",
          "data": {
            "text/plain": [
              "0.0002"
            ]
          },
          "metadata": {},
          "execution_count": 1
        }
      ],
      "source": [
        "0.0001 + 0.0001"
      ]
    },
    {
      "cell_type": "code",
      "source": [
        "# Приклад 1: неточність обчислень з плаваючою комою\n",
        "print(0.009 + 0.001)  # Очікуємо 0.010, але отримаємо 0.009999999999999998"
      ],
      "metadata": {
        "colab": {
          "base_uri": "https://localhost:8080/"
        },
        "id": "HVus0LMb6Y7o",
        "outputId": "1bfacd8c-0864-4971-f9a8-e3497cc37b80"
      },
      "execution_count": null,
      "outputs": [
        {
          "output_type": "stream",
          "name": "stdout",
          "text": [
            "0.009999999999999998\n"
          ]
        }
      ]
    },
    {
      "cell_type": "code",
      "source": [
        "# Приклад 2: неточність при відніманні\n",
        "print(0.3 - 0.2)  # Очікуємо 0.1, але отримаємо 0.09999999999999998\n"
      ],
      "metadata": {
        "colab": {
          "base_uri": "https://localhost:8080/"
        },
        "id": "DlpfEvpF6xfe",
        "outputId": "12892e5b-71bf-45fc-994d-25fc8697af28"
      },
      "execution_count": null,
      "outputs": [
        {
          "output_type": "stream",
          "name": "stdout",
          "text": [
            "0.09999999999999998\n"
          ]
        }
      ]
    },
    {
      "cell_type": "code",
      "source": [
        "# Приклад 3: неточність при множенні\n",
        "print(0.1 * 3)  # Очікуємо 0.3, але отримаємо 0.30000000000000004"
      ],
      "metadata": {
        "colab": {
          "base_uri": "https://localhost:8080/"
        },
        "id": "jvPDaD0J60Lu",
        "outputId": "e37a892b-c7ad-482b-800a-2034a56bcf97"
      },
      "execution_count": null,
      "outputs": [
        {
          "output_type": "stream",
          "name": "stdout",
          "text": [
            "0.30000000000000004\n"
          ]
        }
      ]
    },
    {
      "cell_type": "code",
      "source": [
        "# Приклад 4: як виправити проблему за допомогою модуля decimal\n",
        "from decimal import Decimal\n",
        "print(Decimal('0.3') - Decimal('0.2'))  # Отримаємо точно 0.1"
      ],
      "metadata": {
        "colab": {
          "base_uri": "https://localhost:8080/"
        },
        "id": "RvvGJ94w63Ky",
        "outputId": "f2b6b0c6-738c-4ef8-af24-5ca7a3f9950e"
      },
      "execution_count": null,
      "outputs": [
        {
          "output_type": "stream",
          "name": "stdout",
          "text": [
            "0.1\n"
          ]
        }
      ]
    },
    {
      "cell_type": "code",
      "source": [
        "# Приклад 5: округлення значення\n",
        "print(round(0.3 - 0.2, 10))  # Отримаємо 0.1 без неточност"
      ],
      "metadata": {
        "colab": {
          "base_uri": "https://localhost:8080/"
        },
        "id": "X0m19nP4656I",
        "outputId": "8fe7390a-c766-4349-c019-650e89faf057"
      },
      "execution_count": null,
      "outputs": [
        {
          "output_type": "stream",
          "name": "stdout",
          "text": [
            "0.1\n"
          ]
        }
      ]
    },
    {
      "cell_type": "code",
      "source": [
        "# Приклад 6: розрахунок площі кімнати з похибкою\n",
        "room_length = 5.0\n",
        "room_width = 9.0\n",
        "laminate_area = room_length * room_width\n",
        "print(\"Площа кімнати:\", laminate_area)  # Очікуємо 45, але може бути 44.99999999999999 через похибку\n",
        "\n",
        "# Виправлення з використанням Decimal\n",
        "print(\"Площа кімнати (точно):\", Decimal(str(room_length)) * Decimal(str(room_width)))"
      ],
      "metadata": {
        "colab": {
          "base_uri": "https://localhost:8080/"
        },
        "id": "d9v1zlu57NfA",
        "outputId": "fc80772f-c6c6-439e-e860-5cb6663003b3"
      },
      "execution_count": null,
      "outputs": [
        {
          "output_type": "stream",
          "name": "stdout",
          "text": [
            "Площа кімнати: 45.0\n",
            "Площа кімнати (точно): 45.00\n"
          ]
        }
      ]
    },
    {
      "cell_type": "code",
      "source": [
        "\n",
        "# Приклад 7: неточність при діленні\n",
        "print(1 / 3)  # Очікуємо 0.333..., але отримаємо 0.3333333333333333\n",
        "\n"
      ],
      "metadata": {
        "colab": {
          "base_uri": "https://localhost:8080/"
        },
        "id": "QO9u_uBo7Xxc",
        "outputId": "51730aed-557b-40c9-fa13-6a4d6d4a1334"
      },
      "execution_count": null,
      "outputs": [
        {
          "output_type": "stream",
          "name": "stdout",
          "text": [
            "0.3333333333333333\n"
          ]
        }
      ]
    },
    {
      "cell_type": "code",
      "source": [
        "# Виправлення з використанням Decimal\n",
        "print(Decimal('1') / Decimal('3'))  # Отримаємо точне значення\n"
      ],
      "metadata": {
        "id": "bD_o8BYS7bAA"
      },
      "execution_count": null,
      "outputs": []
    },
    {
      "cell_type": "code",
      "source": [
        "# Приклад 8: неточність при множенні дробів\n",
        "print(0.1 * 0.2)  # Очікуємо 0.02, але отримаємо 0.020000000000000004\n",
        "\n",
        "# Виправлення з використанням Decimal\n",
        "print(Decimal('0.1') * Decimal('0.2'))  # Отримаємо точно 0.02"
      ],
      "metadata": {
        "colab": {
          "base_uri": "https://localhost:8080/"
        },
        "id": "o6_JegY67f8Y",
        "outputId": "ca3719fe-e77f-4ae7-8659-82211d835044"
      },
      "execution_count": null,
      "outputs": [
        {
          "output_type": "stream",
          "name": "stdout",
          "text": [
            "0.020000000000000004\n",
            "0.02\n"
          ]
        }
      ]
    }
  ]
}